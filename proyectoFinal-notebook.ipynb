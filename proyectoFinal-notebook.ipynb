{
    "cells": [
        {
            "metadata": {
                "collapsed": true
            },
            "cell_type": "markdown",
            "source": "# Notebook para el proyecto final de coursera"
        },
        {
            "metadata": {},
            "cell_type": "code",
            "source": "import pandas as pd\nimport numpy as np\nimport csv\nimport requests\nfrom bs4 import BeautifulSoup",
            "execution_count": 2,
            "outputs": []
        },
        {
            "metadata": {},
            "cell_type": "code",
            "source": "print(\"\u00a1Hola, Proyecto Final del Curso!\")",
            "execution_count": 2,
            "outputs": [
                {
                    "output_type": "stream",
                    "text": "\u00a1Hola, Proyecto Final del Curso!\n",
                    "name": "stdout"
                }
            ]
        },
        {
            "metadata": {},
            "cell_type": "code",
            "source": "url = \"https://en.wikipedia.org/wiki/List_of_postal_codes_of_Canada:_M\" #definimos la url de la pagina\nreq = requests.get(url) # preparamos los datos\nsoup = BeautifulSoup(req.text) # Extraemos el codigo html\ndata = soup.find_all(\"table\")[0] #buscamos la palabra clave [table]\ndf_vecindarios = pd.read_html(str(data))[0] \ndf_vecindarios.head()",
            "execution_count": 8,
            "outputs": [
                {
                    "output_type": "execute_result",
                    "execution_count": 8,
                    "data": {
                        "text/plain": "                                                   0                1  \\\n0                                    M1ANot assigned  M2ANot assigned   \n1                    M1BScarborough(Malvern / Rouge)  M2BNot assigned   \n2  M1CScarborough(Rouge Hill / Port Union / Highl...  M2CNot assigned   \n3  M1EScarborough(Guildwood / Morningside / West ...  M2ENot assigned   \n4                             M1GScarborough(Woburn)  M2GNot assigned   \n\n                                                2  \\\n0                        M3ANorth York(Parkwoods)   \n1                   M3BNorth York(Don Mills)North   \n2  M3CNorth York(Don Mills)South(Flemingdon Park)   \n3                                 M3ENot assigned   \n4                                 M3GNot assigned   \n\n                                                3  \\\n0                 M4ANorth York(Victoria Village)   \n1  M4BEast York(Parkview Hill / Woodbine Gardens)   \n2                  M4CEast York(Woodbine Heights)   \n3                    M4EEast Toronto(The Beaches)   \n4                           M4GEast York(Leaside)   \n\n                                                 4  \\\n0  M5ADowntown Toronto(Regent Park / Harbourfront)   \n1    M5BDowntown Toronto(Garden District, Ryerson)   \n2              M5CDowntown Toronto(St. James Town)   \n3                 M5EDowntown Toronto(Berczy Park)   \n4          M5GDowntown Toronto(Central Bay Street)   \n\n                                                  5  \\\n0  M6ANorth York(Lawrence Manor / Lawrence Heights)   \n1                          M6BNorth York(Glencairn)   \n2                       M6CYork(Humewood-Cedarvale)   \n3                      M6EYork(Caledonia-Fairbanks)   \n4                     M6GDowntown Toronto(Christie)   \n\n                                                6                7  \\\n0  M7AQueen's Park(Ontario Provincial Government)  M8ANot assigned   \n1                                 M7BNot assigned  M8BNot assigned   \n2                                 M7CNot assigned  M8CNot assigned   \n3                                 M7ENot assigned  M8ENot assigned   \n4                                 M7GNot assigned  M8GNot assigned   \n\n                                                   8  \n0                     M9AEtobicoke(Islington Avenue)  \n1  M9BEtobicoke(West Deane Park / Princess Garden...  \n2  M9CEtobicoke(Eringate / Bloordale Gardens / Ol...  \n3                                    M9ENot assigned  \n4                                    M9GNot assigned  ",
                        "text/html": "<div>\n<style scoped>\n    .dataframe tbody tr th:only-of-type {\n        vertical-align: middle;\n    }\n\n    .dataframe tbody tr th {\n        vertical-align: top;\n    }\n\n    .dataframe thead th {\n        text-align: right;\n    }\n</style>\n<table border=\"1\" class=\"dataframe\">\n  <thead>\n    <tr style=\"text-align: right;\">\n      <th></th>\n      <th>0</th>\n      <th>1</th>\n      <th>2</th>\n      <th>3</th>\n      <th>4</th>\n      <th>5</th>\n      <th>6</th>\n      <th>7</th>\n      <th>8</th>\n    </tr>\n  </thead>\n  <tbody>\n    <tr>\n      <th>0</th>\n      <td>M1ANot assigned</td>\n      <td>M2ANot assigned</td>\n      <td>M3ANorth York(Parkwoods)</td>\n      <td>M4ANorth York(Victoria Village)</td>\n      <td>M5ADowntown Toronto(Regent Park / Harbourfront)</td>\n      <td>M6ANorth York(Lawrence Manor / Lawrence Heights)</td>\n      <td>M7AQueen's Park(Ontario Provincial Government)</td>\n      <td>M8ANot assigned</td>\n      <td>M9AEtobicoke(Islington Avenue)</td>\n    </tr>\n    <tr>\n      <th>1</th>\n      <td>M1BScarborough(Malvern / Rouge)</td>\n      <td>M2BNot assigned</td>\n      <td>M3BNorth York(Don Mills)North</td>\n      <td>M4BEast York(Parkview Hill / Woodbine Gardens)</td>\n      <td>M5BDowntown Toronto(Garden District, Ryerson)</td>\n      <td>M6BNorth York(Glencairn)</td>\n      <td>M7BNot assigned</td>\n      <td>M8BNot assigned</td>\n      <td>M9BEtobicoke(West Deane Park / Princess Garden...</td>\n    </tr>\n    <tr>\n      <th>2</th>\n      <td>M1CScarborough(Rouge Hill / Port Union / Highl...</td>\n      <td>M2CNot assigned</td>\n      <td>M3CNorth York(Don Mills)South(Flemingdon Park)</td>\n      <td>M4CEast York(Woodbine Heights)</td>\n      <td>M5CDowntown Toronto(St. James Town)</td>\n      <td>M6CYork(Humewood-Cedarvale)</td>\n      <td>M7CNot assigned</td>\n      <td>M8CNot assigned</td>\n      <td>M9CEtobicoke(Eringate / Bloordale Gardens / Ol...</td>\n    </tr>\n    <tr>\n      <th>3</th>\n      <td>M1EScarborough(Guildwood / Morningside / West ...</td>\n      <td>M2ENot assigned</td>\n      <td>M3ENot assigned</td>\n      <td>M4EEast Toronto(The Beaches)</td>\n      <td>M5EDowntown Toronto(Berczy Park)</td>\n      <td>M6EYork(Caledonia-Fairbanks)</td>\n      <td>M7ENot assigned</td>\n      <td>M8ENot assigned</td>\n      <td>M9ENot assigned</td>\n    </tr>\n    <tr>\n      <th>4</th>\n      <td>M1GScarborough(Woburn)</td>\n      <td>M2GNot assigned</td>\n      <td>M3GNot assigned</td>\n      <td>M4GEast York(Leaside)</td>\n      <td>M5GDowntown Toronto(Central Bay Street)</td>\n      <td>M6GDowntown Toronto(Christie)</td>\n      <td>M7GNot assigned</td>\n      <td>M8GNot assigned</td>\n      <td>M9GNot assigned</td>\n    </tr>\n  </tbody>\n</table>\n</div>"
                    },
                    "metadata": {}
                }
            ]
        },
        {
            "metadata": {},
            "cell_type": "code",
            "source": "df_vecindarios.shape",
            "execution_count": 6,
            "outputs": [
                {
                    "output_type": "execute_result",
                    "execution_count": 6,
                    "data": {
                        "text/plain": "(20, 9)"
                    },
                    "metadata": {}
                }
            ]
        },
        {
            "metadata": {},
            "cell_type": "code",
            "source": "",
            "execution_count": null,
            "outputs": []
        }
    ],
    "metadata": {
        "kernelspec": {
            "name": "python3",
            "display_name": "Python 3.10",
            "language": "python"
        },
        "language_info": {
            "name": "python",
            "version": "3.10.9",
            "mimetype": "text/x-python",
            "codemirror_mode": {
                "name": "ipython",
                "version": 3
            },
            "pygments_lexer": "ipython3",
            "nbconvert_exporter": "python",
            "file_extension": ".py"
        }
    },
    "nbformat": 4,
    "nbformat_minor": 1
}